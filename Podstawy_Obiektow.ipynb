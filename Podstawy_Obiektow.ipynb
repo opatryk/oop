{
 "cells": [
  {
   "cell_type": "markdown",
   "metadata": {},
   "source": [
    "# Programowanie obiektowe \n",
    "### Dzień pierwszy z programowania obiektowego. Nauczymy się:\n",
    "    * Konfiguracji środowiska\n",
    "    * Instalować pakiety,\n",
    "    * Jak używać Jupytera"
   ]
  },
  {
   "cell_type": "markdown",
   "metadata": {},
   "source": [
    "## Jak używac Jupytera"
   ]
  },
  {
   "cell_type": "code",
   "execution_count": 1,
   "metadata": {},
   "outputs": [],
   "source": [
    "print?"
   ]
  },
  {
   "cell_type": "code",
   "execution_count": 2,
   "metadata": {},
   "outputs": [],
   "source": [
    "import random \n",
    "\n",
    "def test_func():\n",
    "    for i in range(100):\n",
    "        chosen_int = random.randint(0, 100)\n",
    "    return chosen_int"
   ]
  },
  {
   "cell_type": "code",
   "execution_count": 3,
   "metadata": {},
   "outputs": [
    {
     "name": "stdout",
     "output_type": "stream",
     "text": [
      "191 µs ± 20.8 µs per loop (mean ± std. dev. of 7 runs, 1000 loops each)\n"
     ]
    }
   ],
   "source": [
    "%timeit test_func()"
   ]
  },
  {
   "cell_type": "markdown",
   "metadata": {},
   "source": [
    "# Ćwiczenie Jupyter\n",
    "    * Przypisz do zmiennej __lista_plikow__ pliki tekstowe (rozszerzenie *.txt)\n",
    "    * Wyświetl typ zmiennej lista_plikow\n",
    "    * Wyświetl ile linni ma każdy plik (poznane polecenie wc) "
   ]
  },
  {
   "cell_type": "code",
   "execution_count": 4,
   "metadata": {},
   "outputs": [
    {
     "name": "stdout",
     "output_type": "stream",
     "text": [
      "/home/kodolamacz/oop/oop1\r\n"
     ]
    }
   ],
   "source": [
    "!pwd"
   ]
  },
  {
   "cell_type": "code",
   "execution_count": 5,
   "metadata": {},
   "outputs": [
    {
     "name": "stdout",
     "output_type": "stream",
     "text": [
      "requirements.txt\r\n"
     ]
    }
   ],
   "source": [
    "!ls *txt"
   ]
  },
  {
   "cell_type": "code",
   "execution_count": 6,
   "metadata": {},
   "outputs": [],
   "source": [
    "lista_plikow = !ls *.txt"
   ]
  },
  {
   "cell_type": "code",
   "execution_count": 7,
   "metadata": {},
   "outputs": [
    {
     "data": {
      "text/plain": [
       "IPython.utils.text.SList"
      ]
     },
     "execution_count": 7,
     "metadata": {},
     "output_type": "execute_result"
    }
   ],
   "source": [
    "type(lista_plikow)"
   ]
  },
  {
   "cell_type": "code",
   "execution_count": 8,
   "metadata": {},
   "outputs": [
    {
     "name": "stdout",
     "output_type": "stream",
     "text": [
      "44 requirements.txt\r\n"
     ]
    }
   ],
   "source": [
    "for i in lista_plikow:\n",
    "    !wc -l {i}"
   ]
  },
  {
   "cell_type": "code",
   "execution_count": 9,
   "metadata": {},
   "outputs": [
    {
     "data": {
      "text/plain": [
       "IPython.utils.text.SList"
      ]
     },
     "execution_count": 9,
     "metadata": {},
     "output_type": "execute_result"
    }
   ],
   "source": [
    "type(lista_plikow)"
   ]
  },
  {
   "cell_type": "markdown",
   "metadata": {},
   "source": [
    "# Przykłady obiektów w Pythonie"
   ]
  },
  {
   "cell_type": "code",
   "execution_count": 10,
   "metadata": {},
   "outputs": [],
   "source": [
    "przykladowy_tekst = \"jakis przyklad\""
   ]
  },
  {
   "cell_type": "code",
   "execution_count": 11,
   "metadata": {},
   "outputs": [
    {
     "data": {
      "text/plain": [
       "'JAKIS PRZYKLAD'"
      ]
     },
     "execution_count": 11,
     "metadata": {},
     "output_type": "execute_result"
    }
   ],
   "source": [
    "przykladowy_tekst.upper()"
   ]
  },
  {
   "cell_type": "code",
   "execution_count": 12,
   "metadata": {},
   "outputs": [],
   "source": [
    "class Car:\n",
    "    \"\"\"TO jest taki jakby konstruktor \"\"\"\n",
    "    def __init__(self, color, brand, model, doors_no):\n",
    "        self.color = color\n",
    "        self.brand = brand\n",
    "        self.model = model\n",
    "        self.doors_no = doors_no\n",
    "        \n",
    "    def __repr__(self):\n",
    "        return \"{} {} {}\".format(self.brand, self.model, self.color)\n",
    "    "
   ]
  },
  {
   "cell_type": "code",
   "execution_count": 13,
   "metadata": {},
   "outputs": [],
   "source": [
    "nasz_fiat_tipo = Car(\"rozowy\", \"fiat\", \"tipo\", 4)\n",
    "nasz_toyota = Car(\"Bialy\", \"Toyota\", \"Auris\", 5)"
   ]
  },
  {
   "cell_type": "code",
   "execution_count": 14,
   "metadata": {},
   "outputs": [
    {
     "name": "stdout",
     "output_type": "stream",
     "text": [
      "rozowy\n",
      "fiat\n",
      "tipo\n",
      "4\n"
     ]
    }
   ],
   "source": [
    "print(nasz_fiat_tipo.color)\n",
    "print(nasz_fiat_tipo.brand)\n",
    "print(nasz_fiat_tipo.model)\n",
    "print(nasz_fiat_tipo.doors_no)\n"
   ]
  },
  {
   "cell_type": "markdown",
   "metadata": {},
   "source": [
    "## instancja vs klasa\n"
   ]
  },
  {
   "cell_type": "markdown",
   "metadata": {},
   "source": [
    "### Klasa jest abstrakcja, definiuje nam (poprzez konstruktor) w jaki sposob mamy tworzyc obiekt\n",
    "### Obiekt (instancja) to konkretna reprezentacja klasy (tj.konkretny samochod wlasciciela) "
   ]
  },
  {
   "cell_type": "code",
   "execution_count": 15,
   "metadata": {},
   "outputs": [
    {
     "data": {
      "text/plain": [
       "fiat tipo rozowy"
      ]
     },
     "execution_count": 15,
     "metadata": {},
     "output_type": "execute_result"
    }
   ],
   "source": [
    "nasz_fiat_tipo"
   ]
  },
  {
   "cell_type": "code",
   "execution_count": 16,
   "metadata": {},
   "outputs": [
    {
     "data": {
      "text/plain": [
       "True"
      ]
     },
     "execution_count": 16,
     "metadata": {},
     "output_type": "execute_result"
    }
   ],
   "source": [
    "isinstance(nasz_fiat_tipo, Car)"
   ]
  },
  {
   "cell_type": "code",
   "execution_count": 17,
   "metadata": {},
   "outputs": [],
   "source": [
    "class Car:\n",
    "    \"\"\"TO jest taki jakby konstruktor \"\"\"\n",
    "    wheels = 4\n",
    "    def __init__(self, color, brand, model, doors_no, speed=0):\n",
    "        self.color = color\n",
    "        self.brand = brand\n",
    "        self.model = model\n",
    "        self.doors_no = doors_no\n",
    "        self.speed = speed\n",
    "        \n",
    "    def __repr__(self):\n",
    "        return \"{} {} {}\".format(self.brand, self.model, self.color)\n",
    "    \n",
    "    def wheels_count(self):\n",
    "        return self.wheels\n",
    "    "
   ]
  },
  {
   "cell_type": "code",
   "execution_count": 18,
   "metadata": {},
   "outputs": [],
   "source": [
    "bmw = Car(\"red\",\"BMW\", \"320i\",4, 100)"
   ]
  },
  {
   "cell_type": "code",
   "execution_count": 19,
   "metadata": {},
   "outputs": [
    {
     "data": {
      "text/plain": [
       "100"
      ]
     },
     "execution_count": 19,
     "metadata": {},
     "output_type": "execute_result"
    }
   ],
   "source": [
    "bmw.speed"
   ]
  },
  {
   "cell_type": "code",
   "execution_count": 20,
   "metadata": {},
   "outputs": [
    {
     "data": {
      "text/plain": [
       "{'brand': 'BMW', 'color': 'red', 'doors_no': 4, 'model': '320i', 'speed': 100}"
      ]
     },
     "execution_count": 20,
     "metadata": {},
     "output_type": "execute_result"
    }
   ],
   "source": [
    "bmw.__dict__"
   ]
  },
  {
   "cell_type": "code",
   "execution_count": 21,
   "metadata": {},
   "outputs": [
    {
     "data": {
      "text/plain": [
       "4"
      ]
     },
     "execution_count": 21,
     "metadata": {},
     "output_type": "execute_result"
    }
   ],
   "source": [
    "bmw.wheels_count()"
   ]
  },
  {
   "cell_type": "markdown",
   "metadata": {},
   "source": [
    "## Przeciazanie operatorow"
   ]
  },
  {
   "cell_type": "code",
   "execution_count": 22,
   "metadata": {},
   "outputs": [],
   "source": [
    "class Car:\n",
    "    \"\"\"TO jest taki jakby konstruktor \"\"\"\n",
    "    wheels = 4\n",
    "    def __init__(self, color, brand, model, doors_no=0, max_speed=0):\n",
    "        self.color = color\n",
    "        self.brand = brand\n",
    "        self.model = model\n",
    "        self.doors_no = doors_no\n",
    "        self.max_speed = max_speed\n",
    "        \n",
    "    def __gt__(self, other):\n",
    "        return self.max_speed > other.max_speed\n",
    "    def _str_(self):\n",
    "        return \"{} {} {}\".format(self.brand, self.model, self.color)"
   ]
  },
  {
   "cell_type": "code",
   "execution_count": 23,
   "metadata": {},
   "outputs": [],
   "source": [
    "bmw = Car(\"red\",\"BMW\", \"320i\", 4, 230)\n",
    "mazda = Car(\"red\",\"Mazda\", \"6\", 4, 215)"
   ]
  },
  {
   "cell_type": "code",
   "execution_count": 24,
   "metadata": {},
   "outputs": [
    {
     "data": {
      "text/plain": [
       "True"
      ]
     },
     "execution_count": 24,
     "metadata": {},
     "output_type": "execute_result"
    }
   ],
   "source": [
    "bmw>mazda"
   ]
  },
  {
   "cell_type": "markdown",
   "metadata": {},
   "source": [
    "# Dziedziczenie"
   ]
  },
  {
   "cell_type": "code",
   "execution_count": 25,
   "metadata": {},
   "outputs": [],
   "source": [
    "class Truck(Car):\n",
    "    wheels = 12\n",
    "    \n",
    "    def __init__(self, load, *args, **kwargs):\n",
    "        super().__init__(*args, **kwargs)\n",
    "        self.load = load\n",
    "    "
   ]
  },
  {
   "cell_type": "code",
   "execution_count": 26,
   "metadata": {},
   "outputs": [],
   "source": [
    "scania = Truck(30, \"blue\", \"Scania\", \"123\")"
   ]
  },
  {
   "cell_type": "code",
   "execution_count": 27,
   "metadata": {},
   "outputs": [
    {
     "name": "stdout",
     "output_type": "stream",
     "text": [
      "30\n"
     ]
    }
   ],
   "source": [
    "print(scania.load)"
   ]
  },
  {
   "cell_type": "code",
   "execution_count": 38,
   "metadata": {},
   "outputs": [],
   "source": [
    "class ParkigLot:\n",
    "    def __init__(self, cars=None):\n",
    "        if cars is None:\n",
    "            self.cars = []\n",
    "        else:\n",
    "            self.cars = cars\n",
    "    \n",
    "    def list_all_cars(self):\n",
    "        for car in self.cars:\n",
    "            print(car)\n",
    "            \n",
    "    def add_new_car(self, Car):\n",
    "        if car not in self.cars:\n",
    "            self.cars.append(car)\n",
    "        \n",
    "    def __len__(self):\n",
    "        return len(self.cars)\n",
    "        "
   ]
  },
  {
   "cell_type": "code",
   "execution_count": 39,
   "metadata": {},
   "outputs": [],
   "source": [
    "nasz_parking = [\n",
    "    Car(\"red\",\"BMW\", \"320i\", 4, 230),\n",
    "    Car(\"red\",\"Mazda\", \"6\", 4, 215),\n",
    "    Car(\"blue\",\"Mazda\", \"3\", 4, 175)\n",
    "]"
   ]
  },
  {
   "cell_type": "code",
   "execution_count": 40,
   "metadata": {},
   "outputs": [
    {
     "data": {
      "text/plain": [
       "3"
      ]
     },
     "execution_count": 40,
     "metadata": {},
     "output_type": "execute_result"
    }
   ],
   "source": [
    "len(nasz_parking)"
   ]
  },
  {
   "cell_type": "code",
   "execution_count": 31,
   "metadata": {},
   "outputs": [
    {
     "name": "stdout",
     "output_type": "stream",
     "text": [
      "[<__main__.Car object at 0x7f8adc4696a0>, <__main__.Car object at 0x7f8adc4696d8>, <__main__.Car object at 0x7f8adc469668>]\n"
     ]
    }
   ],
   "source": [
    "print(nasz_parking)"
   ]
  },
  {
   "cell_type": "code",
   "execution_count": 41,
   "metadata": {},
   "outputs": [],
   "source": [
    "obiekt_parking = ParkigLot(nasz_parking)"
   ]
  },
  {
   "cell_type": "code",
   "execution_count": 42,
   "metadata": {},
   "outputs": [
    {
     "name": "stdout",
     "output_type": "stream",
     "text": [
      "<__main__.Car object at 0x7f8ac7b940b8>\n",
      "<__main__.Car object at 0x7f8ac7b940f0>\n",
      "<__main__.Car object at 0x7f8ac7b94128>\n"
     ]
    }
   ],
   "source": [
    "obiekt_parking.list_all_cars()"
   ]
  },
  {
   "cell_type": "code",
   "execution_count": null,
   "metadata": {},
   "outputs": [],
   "source": [
    "obiekt_parking.add_new_car(Car(\"yellow\", \"Mercedes\", \"C\", 4, 197))"
   ]
  },
  {
   "cell_type": "code",
   "execution_count": null,
   "metadata": {},
   "outputs": [],
   "source": [
    "obiekt_parking.list.all.cars"
   ]
  },
  {
   "cell_type": "code",
   "execution_count": null,
   "metadata": {},
   "outputs": [],
   "source": [
    "class Garage(list):\n",
    "    def iterate_over_cars(self):\n",
    "        for"
   ]
  },
  {
   "cell_type": "code",
   "execution_count": 35,
   "metadata": {},
   "outputs": [
    {
     "ename": "SyntaxError",
     "evalue": "invalid syntax (<ipython-input-35-490560a5140e>, line 2)",
     "output_type": "error",
     "traceback": [
      "\u001b[0;36m  File \u001b[0;32m\"<ipython-input-35-490560a5140e>\"\u001b[0;36m, line \u001b[0;32m2\u001b[0m\n\u001b[0;31m    *stworz klas grupa (szkolna)\u001b[0m\n\u001b[0m               ^\u001b[0m\n\u001b[0;31mSyntaxError\u001b[0m\u001b[0;31m:\u001b[0m invalid syntax\n"
     ]
    }
   ],
   "source": [
    "#zadanie do domu\n",
    "*stworz klasę grupa (szkolna)\n",
    "*grupa szkolna zawiera uczniow\n",
    "*uczen posiada liste stopi\n",
    "*stworz metode, ktora obliczy mediane dla średnich ocen wszystkich uczniów(srednia ocen uczniow \n",
    "                                                                          i mediane dla sredniej)\n",
    "    # from statistics import median"
   ]
  },
  {
   "cell_type": "code",
   "execution_count": null,
   "metadata": {},
   "outputs": [],
   "source": []
  },
  {
   "cell_type": "code",
   "execution_count": null,
   "metadata": {},
   "outputs": [],
   "source": []
  },
  {
   "cell_type": "code",
   "execution_count": null,
   "metadata": {},
   "outputs": [],
   "source": []
  },
  {
   "cell_type": "code",
   "execution_count": null,
   "metadata": {},
   "outputs": [],
   "source": []
  }
 ],
 "metadata": {
  "kernelspec": {
   "display_name": "Python 3",
   "language": "python",
   "name": "python3"
  },
  "language_info": {
   "codemirror_mode": {
    "name": "ipython",
    "version": 3
   },
   "file_extension": ".py",
   "mimetype": "text/x-python",
   "name": "python",
   "nbconvert_exporter": "python",
   "pygments_lexer": "ipython3",
   "version": "3.5.2"
  }
 },
 "nbformat": 4,
 "nbformat_minor": 2
}
